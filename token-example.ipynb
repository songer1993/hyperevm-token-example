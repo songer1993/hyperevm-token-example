{
 "cells": [
  {
   "cell_type": "code",
   "execution_count": 4,
   "metadata": {},
   "outputs": [],
   "source": [
    "from web3 import Web3\n",
    "from eth_account import Account\n",
    "import json\n",
    "import os\n",
    "from dotenv import load_dotenv\n",
    "load_dotenv()\n",
    "\n",
    "# Connect to Hyperliquid testnet\n",
    "w3 = Web3(Web3.HTTPProvider('https://api.hyperliquid-testnet.xyz/evm'))\n",
    "\n",
    "# Your private key (keep this secret and safe!)\n",
    "private_key = os.getenv('DEPLOYER_PRIVATE_KEY')\n",
    "account = Account.from_key(private_key)\n",
    "\n",
    "# Load compiled MyToken contract data\n",
    "with open('./bin/MyToken.abi', 'r') as f:\n",
    "    abi = json.loads(f.read())\n",
    "    \n",
    "with open('./bin/MyToken.bin', 'r') as f:\n",
    "    bytecode = '0x' + f.read()"
   ]
  },
  {
   "cell_type": "markdown",
   "metadata": {},
   "source": [
    "Depoly MyToken contract"
   ]
  },
  {
   "cell_type": "code",
   "execution_count": 9,
   "metadata": {},
   "outputs": [
    {
     "name": "stdout",
     "output_type": "stream",
     "text": [
      "Token contract deployed at: 0xDA07B9eFd8BDF490301C558f7D9707FBed8a73ed\n",
      "Total supply: 1000000.0 MTK\n"
     ]
    }
   ],
   "source": [
    "from web3 import Web3\n",
    "from eth_account import Account\n",
    "import json\n",
    "import os\n",
    "from dotenv import load_dotenv\n",
    "load_dotenv()\n",
    "\n",
    "# Connect to Hyperliquid testnet\n",
    "w3 = Web3(Web3.HTTPProvider('https://api.hyperliquid-testnet.xyz/evm'))\n",
    "\n",
    "# Your private key (keep this secret and safe!)\n",
    "private_key = os.getenv('DEPLOYER_PRIVATE_KEY')\n",
    "account = Account.from_key(private_key)\n",
    "\n",
    "# Load compiled MyToken contract data\n",
    "with open('./bin/MyToken.abi', 'r') as f:\n",
    "    abi = json.loads(f.read())\n",
    "    \n",
    "with open('./bin/MyToken.bin', 'r') as f:\n",
    "    bytecode = '0x' + f.read()\n",
    "\n",
    "# Create contract instance\n",
    "MyToken = w3.eth.contract(abi=abi, bytecode=bytecode)\n",
    "\n",
    "# Set initial supply (1 million tokens)\n",
    "initial_supply = 1000000  # This will be multiplied by 10^18 in the contract\n",
    "\n",
    "# Build deployment transaction\n",
    "transaction = MyToken.constructor(initial_supply).build_transaction({\n",
    "    'from': account.address,\n",
    "    'nonce': w3.eth.get_transaction_count(account.address),\n",
    "    'gas': 2000000,  # Increased gas limit for ERC20 deployment\n",
    "    'gasPrice': w3.eth.gas_price\n",
    "})\n",
    "\n",
    "# Sign transaction\n",
    "signed = w3.eth.account.sign_transaction(transaction, private_key)\n",
    "\n",
    "# Send transaction\n",
    "tx_hash = w3.eth.send_raw_transaction(signed.raw_transaction)\n",
    "\n",
    "# Wait for transaction receipt\n",
    "tx_receipt = w3.eth.wait_for_transaction_receipt(tx_hash)\n",
    "\n",
    "print(f\"Token contract deployed at: {tx_receipt.contractAddress}\")\n",
    "\n",
    "# Create contract instance at deployed address for interaction\n",
    "token = w3.eth.contract(address=tx_receipt.contractAddress, abi=abi)\n",
    "\n",
    "# Verify deployment by checking total supply\n",
    "total_supply = token.functions.totalSupply().call()\n",
    "print(f\"Total supply: {total_supply / 10**18} MTK\")  # Divide by 10^18 to get actual token amount"
   ]
  },
  {
   "cell_type": "markdown",
   "metadata": {},
   "source": [
    "Test the deployed contract"
   ]
  },
  {
   "cell_type": "code",
   "execution_count": 15,
   "metadata": {},
   "outputs": [
    {
     "name": "stdout",
     "output_type": "stream",
     "text": [
      "Total supply: 1000000.0 MTK\n",
      "Deployer balance: 999900.0 MTK\n",
      "Transfer transaction successful! Hash: 55baa8f8d9d9bce78c9f649910437a226028a6ede076d00d44a11a1059a3016c\n",
      "New deployer balance: 999900.0 MTK\n",
      "Recipient balance: 999900.0 MTK\n"
     ]
    }
   ],
   "source": [
    "# Create contract instance at deployed address\n",
    "contract_address = '0xDA07B9eFd8BDF490301C558f7D9707FBed8a73ed'  # The address from your deployment\n",
    "token = w3.eth.contract(address=contract_address, abi=abi)\n",
    "\n",
    "# Read total supply\n",
    "total_supply = token.functions.totalSupply().call()\n",
    "print(f\"Total supply: {total_supply / 10**18} MTK\")\n",
    "\n",
    "# Get token balance of deployer account\n",
    "balance = token.functions.balanceOf(account.address).call()\n",
    "print(f\"Deployer balance: {balance / 10**18} MTK\")\n",
    "\n",
    "# Optional: Transfer some tokens to another address\n",
    "recipient = '0xF920F86F7B78e7f2081e90Aaf7eb2F1D50f49125'  # Replace with actual recipient address\n",
    "amount_to_transfer = Web3.to_wei(100, 'ether')  # Transfer 100 tokens\n",
    "\n",
    "transfer_txn = token.functions.transfer(recipient, amount_to_transfer).build_transaction({\n",
    "    'from': account.address,\n",
    "    'nonce': w3.eth.get_transaction_count(account.address),\n",
    "    'gas': 100000,\n",
    "    'gasPrice': w3.eth.gas_price\n",
    "})\n",
    "\n",
    "# Sign and send transaction\n",
    "signed_txn = w3.eth.account.sign_transaction(transfer_txn, private_key)\n",
    "tx_hash = w3.eth.send_raw_transaction(signed_txn.raw_transaction)\n",
    "\n",
    "# Wait for transaction to be mined\n",
    "tx_receipt = w3.eth.wait_for_transaction_receipt(tx_hash)\n",
    "print(f\"Transfer transaction successful! Hash: {tx_hash.hex()}\")\n",
    "\n",
    "# Check new balances\n",
    "new_sender_balance = token.functions.balanceOf(account.address).call()\n",
    "new_recipient_balance = token.functions.balanceOf(recipient).call()\n",
    "print(f\"New deployer balance: {new_sender_balance / 10**18} MTK\")\n",
    "print(f\"Recipient balance: {new_recipient_balance / 10**18} MTK\")"
   ]
  }
 ],
 "metadata": {
  "kernelspec": {
   "display_name": "quant",
   "language": "python",
   "name": "python3"
  },
  "language_info": {
   "codemirror_mode": {
    "name": "ipython",
    "version": 3
   },
   "file_extension": ".py",
   "mimetype": "text/x-python",
   "name": "python",
   "nbconvert_exporter": "python",
   "pygments_lexer": "ipython3",
   "version": "3.10.15"
  }
 },
 "nbformat": 4,
 "nbformat_minor": 2
}
